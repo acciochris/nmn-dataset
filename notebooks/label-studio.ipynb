{
 "cells": [
  {
   "cell_type": "code",
   "execution_count": 23,
   "metadata": {},
   "outputs": [],
   "source": [
    "# setup path for the library\n",
    "import sys\n",
    "\n",
    "sys.path.insert(0, \"../lib\")"
   ]
  },
  {
   "cell_type": "code",
   "execution_count": 24,
   "metadata": {},
   "outputs": [],
   "source": [
    "from db import *\n",
    "from sqlalchemy import create_engine\n",
    "\n",
    "engine = create_engine(\"sqlite:///nmn.db\", echo=False)\n",
    "Base.metadata.create_all(engine)"
   ]
  },
  {
   "cell_type": "code",
   "execution_count": 25,
   "metadata": {},
   "outputs": [],
   "source": [
    "from pathlib import Path\n",
    "\n",
    "data_dir = Path(\"nmn-ls\")\n",
    "data_dir.mkdir(exist_ok=True)\n",
    "# page_dir = data_dir / \"pages\"\n",
    "# page_dir.mkdir(exist_ok=True)"
   ]
  },
  {
   "cell_type": "code",
   "execution_count": 26,
   "metadata": {},
   "outputs": [],
   "source": [
    "import json\n",
    "\n",
    "import cv2 as cv\n",
    "from sqlalchemy import select\n",
    "from sqlalchemy.orm import sessionmaker\n",
    "\n",
    "from utils import numpy_to_bytes, bytes_to_numpy\n",
    "\n",
    "Session = sessionmaker(bind=engine)\n",
    "data = []\n",
    "\n",
    "with Session() as session:\n",
    "    for p in session.scalars(select(Page).order_by(Page.id)):\n",
    "        page = bytes_to_numpy(p.content)\n",
    "        cv.imwrite(str(data_dir / f\"{p.id}.png\"), page)"
   ]
  },
  {
   "cell_type": "code",
   "execution_count": 27,
   "metadata": {},
   "outputs": [],
   "source": [
    "with Session() as session:\n",
    "    for p in session.scalars(select(Page).order_by(Page.id)):\n",
    "        metadata = {\n",
    "            \"data\": {\n",
    "                \"image\": \"/data/local-files?d=\"\n",
    "                + str((data_dir / f\"{p.id}.png\").relative_to(data_dir.parent))\n",
    "            },\n",
    "            \"predictions\": [{\"model_version\": \"0.0.1\", \"result\": []}],\n",
    "        }\n",
    "\n",
    "        results = metadata[\"predictions\"][0][\"result\"]\n",
    "\n",
    "        for c in p.components:\n",
    "            results.append(\n",
    "                {\n",
    "                    \"id\": str(c.id),\n",
    "                    \"type\": \"rectanglelabels\",\n",
    "                    \"to_name\": \"image\",\n",
    "                    \"from_name\": \"label\",\n",
    "                    \"original_width\": p.w,\n",
    "                    \"original_height\": p.h,\n",
    "                    \"image_rotation\": 0,\n",
    "                    \"value\": {\n",
    "                        \"x\": c.x / p.w * 100,\n",
    "                        \"y\": c.y / p.h * 100,\n",
    "                        \"width\": c.w / p.w * 100,\n",
    "                        \"height\": c.h / p.h * 100,\n",
    "                        \"rotation\": 0,\n",
    "                        \"rectanglelabels\": [c.category.name],\n",
    "                    },\n",
    "                }\n",
    "            )\n",
    "\n",
    "        with open(data_dir / f\"{p.id}.json\", \"w\") as f:\n",
    "            json.dump(metadata, f)"
   ]
  }
 ],
 "metadata": {
  "kernelspec": {
   "display_name": ".venv",
   "language": "python",
   "name": "python3"
  },
  "language_info": {
   "codemirror_mode": {
    "name": "ipython",
    "version": 3
   },
   "file_extension": ".py",
   "mimetype": "text/x-python",
   "name": "python",
   "nbconvert_exporter": "python",
   "pygments_lexer": "ipython3",
   "version": "3.10.12"
  }
 },
 "nbformat": 4,
 "nbformat_minor": 2
}
