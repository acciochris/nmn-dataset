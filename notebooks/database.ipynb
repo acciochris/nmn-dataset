{
 "cells": [
  {
   "cell_type": "code",
   "execution_count": 1,
   "metadata": {},
   "outputs": [
    {
     "data": {
      "text/plain": [
       "<sqlite3.Cursor at 0x7f96d1730e40>"
      ]
     },
     "execution_count": 1,
     "metadata": {},
     "output_type": "execute_result"
    }
   ],
   "source": [
    "import sqlite3\n",
    "\n",
    "# Create a database connection\n",
    "con = sqlite3.connect(\"nmn.db\")\n",
    "con.execute(\"PRAGMA foreign_keys = ON\")\n",
    "con.executescript(\n",
    "    \"\"\"\n",
    "CREATE TABLE IF NOT EXISTS ComponentCategories (\n",
    "    id INTEGER PRIMARY KEY,\n",
    "    name TEXT,\n",
    "    content BLOB\n",
    ");\n",
    "CREATE TABLE IF NOT EXISTS Components (\n",
    "    id INTEGER PRIMARY KEY,\n",
    "    category TEXT,\n",
    "    score_id INTEGER,\n",
    "    content BLOB,\n",
    "    FOREIGN KEY (category) REFERENCES ComponentCategories(name),\n",
    "    FOREIGN KEY (score_id) REFERENCES Scores(id)\n",
    ");\n",
    "CREATE TABLE IF NOT EXISTS Scores (\n",
    "    id INTEGER PRIMARY KEY,\n",
    "    content BLOB\n",
    ");\n",
    "\"\"\"\n",
    ")"
   ]
  },
  {
   "cell_type": "code",
   "execution_count": 6,
   "metadata": {},
   "outputs": [],
   "source": [
    "from pathlib import Path\n",
    "import sys\n",
    "\n",
    "lib_path = str(Path(\"../lib\").resolve())\n",
    "if lib_path not in sys.path:\n",
    "    sys.path.insert(0, lib_path)"
   ]
  },
  {
   "cell_type": "code",
   "execution_count": 7,
   "metadata": {},
   "outputs": [],
   "source": [
    "from component_classification import (\n",
    "    generate_categories,\n",
    "    generate_components,\n",
    "    classify_components,\n",
    ")\n",
    "\n",
    "paths, categories = generate_categories()\n",
    "components = generate_components()\n",
    "results = classify_components(components, categories)"
   ]
  },
  {
   "cell_type": "code",
   "execution_count": 8,
   "metadata": {},
   "outputs": [],
   "source": [
    "# add categories to database\n",
    "\n",
    "categories_table = [\n",
    "    (path.name, category.tobytes()) for path, category in zip(paths, categories)\n",
    "]\n",
    "\n",
    "with con:\n",
    "    con.executemany(\n",
    "        \"INSERT INTO ComponentCategories (name, content) VALUES (?, ?)\",\n",
    "        categories_table,\n",
    "    )"
   ]
  },
  {
   "cell_type": "code",
   "execution_count": 10,
   "metadata": {},
   "outputs": [
    {
     "data": {
      "text/plain": [
       "(18216, 18216)"
      ]
     },
     "execution_count": 10,
     "metadata": {},
     "output_type": "execute_result"
    }
   ],
   "source": [
    "components_table = [(paths[res].name,) for component, res in zip(components, results)]"
   ]
  },
  {
   "cell_type": "code",
   "execution_count": 12,
   "metadata": {},
   "outputs": [
    {
     "data": {
      "text/plain": [
       "array([ 8, 36, 22, 45, 54, 49, 54, 11, 36,  7])"
      ]
     },
     "execution_count": 12,
     "metadata": {},
     "output_type": "execute_result"
    }
   ],
   "source": []
  },
  {
   "cell_type": "code",
   "execution_count": null,
   "metadata": {},
   "outputs": [],
   "source": []
  }
 ],
 "metadata": {
  "kernelspec": {
   "display_name": ".venv",
   "language": "python",
   "name": "python3"
  },
  "language_info": {
   "codemirror_mode": {
    "name": "ipython",
    "version": 3
   },
   "file_extension": ".py",
   "mimetype": "text/x-python",
   "name": "python",
   "nbconvert_exporter": "python",
   "pygments_lexer": "ipython3",
   "version": "3.10.8"
  }
 },
 "nbformat": 4,
 "nbformat_minor": 2
}
